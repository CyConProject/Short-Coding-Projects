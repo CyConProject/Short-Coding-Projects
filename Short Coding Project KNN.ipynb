{
 "cells": [
  {
   "cell_type": "markdown",
   "id": "00ba2350",
   "metadata": {},
   "source": [
    "### Short Coding Project: K-Nearest Neighbors (k-NN) Classification\n",
    "\n",
    "#### Project Overview\n",
    "\n",
    "This project consists of several tasks where you will apply the concepts learned in the K-Nearest Neighbors lab to classify types of glass based on their chemical composition. You will work with the glass dataset, explore the data, implement the k-NN algorithm, and investigate its performance under different conditions.\n",
    "\n",
    "- Delete the `# YOUR CODE HERE` comments and write your code.\n",
    "- **Do not change** the variable names.\n",
    "\n",
    "### Load the Dataset\n",
    "\n",
    "Start by loading the glass dataset and examining its structure."
   ]
  },
  {
   "cell_type": "code",
   "execution_count": null,
   "id": "850f14ea",
   "metadata": {},
   "outputs": [],
   "source": [
    "# Import necessary libraries\n",
    "import pandas as pd\n",
    "\n",
    "import warnings\n",
    "warnings.filterwarnings(\"ignore\")\n",
    "\n",
    "# Load the dataset\n",
    "url = 'https://raw.githubusercontent.com/CyConProject/Lab/main/Datasets/glass.csv'\n",
    "df = pd.read_csv(url)\n",
    "\n",
    "# Display the first few rows of the dataset\n",
    "df.head()"
   ]
  },
  {
   "cell_type": "markdown",
   "id": "8cc2602c",
   "metadata": {},
   "source": [
    "### Question 1: Data Exploration\n",
    "\n",
    "Explore the dataset to understand its structure and content.\n",
    "\n",
    "1. Display the summary statistics of the dataset.\n",
    "2. Check for any missing values in the dataset."
   ]
  },
  {
   "cell_type": "code",
   "execution_count": null,
   "id": "b021b04e",
   "metadata": {},
   "outputs": [],
   "source": [
    "# Display summary statistics\n",
    "des = # YOUR CODE HERE\n",
    "print(des)\n",
    "\n",
    "# Check for missing values\n",
    "missing_values= # YOUR CODE HERE\n",
    "print(missing_values)"
   ]
  },
  {
   "cell_type": "markdown",
   "id": "f9e31010",
   "metadata": {},
   "source": [
    "### Question 2: Visualize the Distribution of Classes\n",
    "\n",
    "Now we want to create a bar plot to show the number of samples for each glass type in the dataset. Write a line of code that counts the number of samples for each unique glass type and sorts the counts in ascending order by the glass type."
   ]
  },
  {
   "cell_type": "code",
   "execution_count": null,
   "id": "7ffa46ac",
   "metadata": {},
   "outputs": [],
   "source": [
    "import matplotlib.pyplot as plt\n",
    "\n",
    "# Count the number of samples for each glass type\n",
    "class_counts = # YOUR CODE HERE\n",
    "\n",
    "# Create a bar plot\n",
    "plt.bar(class_counts.index.astype(str), class_counts.values, color='skyblue')\n",
    "\n",
    "# Add labels and title\n",
    "plt.xlabel('Glass Type')\n",
    "plt.ylabel('Number of Samples')\n",
    "plt.title('Distribution of Glass Types')\n",
    "plt.show()"
   ]
  },
  {
   "cell_type": "markdown",
   "id": "5dee2ac7",
   "metadata": {},
   "source": [
    "### Question 3: Feature Selection\n",
    "\n",
    "Select the most relevant features for classification using correlation analysis. This is a critical step in improving machine learning models. By selecting the most important features, we can reduce the complexity of the model, improve training efficiency, and potentially increase the model's accuracy.\n",
    "\n",
    "1. **Find the correlation matrix** of the dataset.\n",
    "2. **Get the absolute values** of the correlations with the `'Type'` column.\n",
    "3. **Sort the features** based on their correlation with the target variable `'Type'`.\n",
    "4. **Select the top six features** most strongly correlated with `'Type'`."
   ]
  },
  {
   "cell_type": "code",
   "execution_count": null,
   "id": "c8f38024",
   "metadata": {},
   "outputs": [],
   "source": [
    "# Step 1: Calculate the correlation matrix for all features\n",
    "corr_matrix = # YOUR CODE HERE\n",
    "\n",
    "# Step 2: Get the absolute values of the correlations with 'Type'\n",
    "type_correlation = # YOUR CODE HERE\n",
    "\n",
    "# Step 3: Sort the correlations to find the top six features\n",
    "sorted_correlations = # YOUR CODE HERE\n",
    "\n",
    "# Step 4: Select the top six features (excluding 'Type' itself)\n",
    "top_features = # YOUR CODE HERE\n",
    "\n",
    "# Step 5: Create a new DataFrame with the top six features\n",
    "X_selected = df[top_features]\n",
    "\n",
    "# Step 6: Display the selected features\n",
    "X_selected.head()\n"
   ]
  },
  {
   "cell_type": "markdown",
   "id": "ea10020f",
   "metadata": {},
   "source": [
    "### Question 4: Split the Data into Training and Testing Sets\n",
    "\n",
    "Using `X_selected` and the target variable `y`, split the dataset into training and testing sets. Use 70% of the data for training and 30% for testing. Set `random_state=42` for reproducibility."
   ]
  },
  {
   "cell_type": "code",
   "execution_count": 213,
   "id": "ebe30541",
   "metadata": {},
   "outputs": [],
   "source": [
    "from sklearn.model_selection import train_test_split\n",
    "\n",
    "# Define the target variable y\n",
    "y = # YOUR CODE HERE\n",
    "\n",
    "# Split the dataset\n",
    "X_train, X_test, y_train, y_test = # YOUR CODE HERE"
   ]
  },
  {
   "cell_type": "markdown",
   "id": "a790bbe0",
   "metadata": {},
   "source": [
    "### Question 5: Standardize the Features\n",
    "\n",
    "Standardize the selected features using `StandardScaler` to ensure that all features contribute equally to the model, preventing features with larger scales from dominating."
   ]
  },
  {
   "cell_type": "code",
   "execution_count": null,
   "id": "456de610",
   "metadata": {},
   "outputs": [],
   "source": [
    "from sklearn.preprocessing import StandardScaler\n",
    "\n",
    "# Initialize the scaler\n",
    "scaler = StandardScaler()\n",
    "\n",
    "# Fit the scaler on the training data and transform both training and testing data\n",
    "X_train_scaled = # YOUR CODE HERE\n",
    "X_test_scaled = # YOUR CODE HERE\n",
    "\n",
    "# Display the first few rows of X_train_scaled\n",
    "print(X_train_scaled[:5])"
   ]
  },
  {
   "cell_type": "markdown",
   "id": "a7a37767",
   "metadata": {},
   "source": [
    "### Question 6: Train and Evaluate the k-NN Classifier\n",
    "\n",
    "Initialize a k-NN classifier with `n_neighbors=5` and train it on the scaled training data. Evaluate the model's performance by calculating the accuracy score and printing the classification report on the test data."
   ]
  },
  {
   "cell_type": "code",
   "execution_count": null,
   "id": "94cd9d29",
   "metadata": {},
   "outputs": [],
   "source": [
    "from sklearn.neighbors import KNeighborsClassifier\n",
    "from sklearn.metrics import accuracy_score, classification_report\n",
    "\n",
    "# Initialize the k-NN classifier with k=5\n",
    "k = 5\n",
    "knn_classifier = # YOUR CODE HERE\n",
    "\n",
    "# Train the classifier\n",
    "# YOUR CODE HERE\n",
    "\n",
    "# Make predictions on the test data\n",
    "y_pred = # YOUR CODE HERE\n",
    "\n",
    "# Evaluate the performance\n",
    "accuracy = # YOUR CODE HERE\n",
    "classification_rep = # YOUR CODE HERE\n",
    "\n",
    "# Display the results\n",
    "print(f\"Accuracy of the k-NN classifier (k={k}): {accuracy:.2f}\")\n",
    "print(\"Classification Report:\\n\", classification_rep)"
   ]
  },
  {
   "cell_type": "markdown",
   "id": "de6b3377",
   "metadata": {},
   "source": [
    "### Question 7: Implement Weighted k-NN (Advanced)\n",
    "\n",
    "In this question, you will modify the k-NN classifier to use distance-weighted voting, where closer neighbors have a greater influence on the classification than more distant ones.\n",
    "\n",
    "**Steps:**\n",
    "\n",
    "1. Initialize a weighted k-NN classifier with `n_neighbors=5`.\n",
    "\n",
    "    **Hint**: Setting `weights='distance'` in `KNeighborsClassifier` uses the inverse of the distance as weights.\n",
    "    If you want to learn more about KNN classifier parameters such as `weights`, you can refer to the scikit-learn documentation in this [link](https://scikit-learn.org/dev/modules/generated/sklearn.neighbors.KNeighborsClassifier.html).\n",
    "\n",
    "2. Train the classifier on the scaled training data.\n",
    "3. Evaluate the model's performance by calculating the accuracy score and printing the classification report on the test data.\n",
    "4. Compare the results with the uniform-weighted k-NN classifier from Question 6.\n",
    "\n",
    "\n",
    "    "
   ]
  },
  {
   "cell_type": "code",
   "execution_count": null,
   "id": "13192d40",
   "metadata": {},
   "outputs": [],
   "source": [
    "# Initialize the weighted k-NN classifier with k=5 and distance weights\n",
    "knn_classifier_weighted = # YOUR CODE HERE\n",
    "\n",
    "# Train the classifier\n",
    "# YOUR CODE HERE\n",
    "\n",
    "# Make predictions on the test data\n",
    "y_pred_weighted = # YOUR CODE HERE\n",
    "\n",
    "# Evaluate the performance\n",
    "accuracy_weighted = # YOUR CODE HERE\n",
    "classification_rep_weighted = # YOUR CODE HERE\n",
    "\n",
    "# Display the results\n",
    "print(f\"Accuracy of the weighted k-NN classifier (k={k}): {accuracy_weighted:.2f}\")\n",
    "print(\"Classification Report:\\n\", classification_rep_weighted)"
   ]
  },
  {
   "cell_type": "markdown",
   "id": "57af69df",
   "metadata": {},
   "source": [
    "### Question 8: Evaluate k-NN with Different Distance Metrics (Advanced)\n",
    "\n",
    "In this question, you will explore how changing the distance metric affects the k-NN classifier's performance.\n",
    "\n",
    "**Steps:**\n",
    "\n",
    "1. For each distance metric ('euclidean', 'manhattan', 'chebyshev'), initialize a k-NN classifier with `n_neighbors=5` and the specified metric.\n",
    "\n",
    "    **Hint**: If you want to learn more about the chebyshev distance metric, you can refer to the documentation in this [link](https://en.wikipedia.org/wiki/Chebyshev_distance).\n",
    "\n",
    "2. Train the classifier on the scaled training data.\n",
    "3. Evaluate the model's performance by calculating the accuracy score on the test data.\n",
    "\n",
    "Look at the results to see which distance metric performed best on this dataset."
   ]
  },
  {
   "cell_type": "code",
   "execution_count": null,
   "id": "c74fa4b5",
   "metadata": {},
   "outputs": [],
   "source": [
    "# List of distance metrics to evaluate\n",
    "distance_metrics = ['euclidean', 'manhattan', 'chebyshev']\n",
    "\n",
    "# Dictionary to store accuracy scores\n",
    "accuracy_metrics = {}\n",
    "\n",
    "for metric in distance_metrics:\n",
    "    # Initialize the k-NN classifier with the current metric\n",
    "    knn_classifier_metric = # YOUR CODE HERE\n",
    "    \n",
    "    # Train the classifier\n",
    "    # YOUR CODE HERE\n",
    "    \n",
    "    # Make predictions on the test data\n",
    "    y_pred_metric = # YOUR CODE HERE\n",
    "    \n",
    "    # Evaluate the performance\n",
    "    accuracy_metric = # YOUR CODE HERE\n",
    "    \n",
    "    # Store the accuracy\n",
    "    accuracy_metrics[metric] = accuracy_metric\n",
    "    \n",
    "    # Display the results\n",
    "    print(f\"\\nAccuracy with {metric} distance: {accuracy_metric:.2f}\")\n",
    "\n",
    "# Summarize which distance metric performed best\n",
    "best_metric = max(accuracy_metrics, key=accuracy_metrics.get)\n",
    "print(f\"\\nThe distance metric with the highest accuracy is: {best_metric}\")"
   ]
  }
 ],
 "metadata": {
  "kernelspec": {
   "display_name": "Python 3",
   "language": "python",
   "name": "python3"
  },
  "language_info": {
   "codemirror_mode": {
    "name": "ipython",
    "version": 3
   },
   "file_extension": ".py",
   "mimetype": "text/x-python",
   "name": "python",
   "nbconvert_exporter": "python",
   "pygments_lexer": "ipython3",
   "version": "3.11.9"
  }
 },
 "nbformat": 4,
 "nbformat_minor": 5
}
