{
 "cells": [
  {
   "cell_type": "markdown",
   "id": "cc7ceb51",
   "metadata": {},
   "source": [
    "\n",
    "### Short Coding Project: Non-linear Regression\n",
    "\n",
    "#### Project Overview\n",
    "This project consists of a few short tasks where you will apply the concepts learned in the Non-linear Regression lab. You will work with a dataset, implement non-linear regression models, and evaluate their performance.\n",
    "\n",
    "- Delete the `# Your Code Here` comments and write your code.\n",
    "- **Do not change** the variable names.\n"
   ]
  },
  {
   "cell_type": "markdown",
   "id": "d66148ff",
   "metadata": {},
   "source": [
    "\n",
    "### Load the Dataset and Clean the Data\n",
    "Start by loading the dataset and cleaning specific columns. We use the `Retype` function to convert the necessary values into numeric format.\n"
   ]
  },
  {
   "cell_type": "code",
   "execution_count": null,
   "id": "1e04b479",
   "metadata": {},
   "outputs": [],
   "source": [
    "import pandas as pd\n",
    "import re\n",
    "\n",
    "# Load the dataset\n",
    "url = 'https://raw.githubusercontent.com/CyConProject/Lab/main/Datasets/world-data-2023.csv'\n",
    "df = pd.read_csv(url)\n",
    "\n",
    "# List of columns to be processed\n",
    "columns = [\n",
    "    \"GDP\",\n",
    "    \"Life expectancy\",\n",
    "    \"Population\",\n",
    "]\n",
    "\n",
    "# Function to convert and clean values in the columns\n",
    "def Retype(x):\n",
    "    if type(x) != str:\n",
    "        return x\n",
    "    x = re.sub(r\"%|\\$|,\", \"\", x)\n",
    "    return float(x)\n",
    "\n",
    "# Apply the Retype function to the relevant columns\n",
    "for column in columns:\n",
    "    df[column] = df[column].apply(Retype)\n",
    "\n",
    "# Display the first few rows after data conversion\n",
    "df.head()"
   ]
  },
  {
   "cell_type": "markdown",
   "id": "d7a789b8",
   "metadata": {},
   "source": [
    "\n",
    "### Question 1: Create a New Column for GDP Per Capita\n",
    "Create a new column called `GDP Per Capita` by dividing the `GDP` by `Population`.\n"
   ]
  },
  {
   "cell_type": "code",
   "execution_count": null,
   "id": "9751ca19",
   "metadata": {},
   "outputs": [],
   "source": [
    "# Create a new column for GDP Per Capita\n",
    "df['GDP Per Capita'] = # YOUR CODE HERE\n",
    "\n",
    "# Display the first few rows with the new column\n",
    "df[['GDP', 'Population', 'GDP Per Capita']].head()"
   ]
  },
  {
   "cell_type": "markdown",
   "id": "e3642cae",
   "metadata": {},
   "source": [
    "### Visualize the Data\n",
    "You can see a scatter plot visualizing the relationship between `GDP Per Capita` and `Life Expectancy`.\n"
   ]
  },
  {
   "cell_type": "code",
   "execution_count": null,
   "id": "c7afade3",
   "metadata": {},
   "outputs": [],
   "source": [
    "import matplotlib.pyplot as plt\n",
    "\n",
    "# Scatter plot of GDP Per Capita vs. Life Expectancy\n",
    "plt.scatter(df['GDP Per Capita'], df['Life expectancy'])\n",
    "plt.title('Scatter Plot of GDP Per Capita vs. Life Expectancy')\n",
    "plt.xlabel('GDP Per Capita')\n",
    "plt.ylabel('Life Expectancy')\n",
    "plt.show()"
   ]
  },
  {
   "cell_type": "markdown",
   "id": "ca0b83c1",
   "metadata": {},
   "source": [
    "### Question 2: Fit a Power Function Model\n",
    "Fit a non-linear regression model to the data using the `GDP Per Capita` and `Life Expectancy` columns. Use the Numpy library and write a power function in this form:\n",
    "$$ y = a \\cdot x^b \\$$\n",
    "Then use `curve_fit` to fit the model to the `GDP Per Capita` and `Life Expectancy` data."
   ]
  },
  {
   "cell_type": "code",
   "execution_count": null,
   "id": "49e0cfe9",
   "metadata": {},
   "outputs": [],
   "source": [
    "from scipy.optimize import curve_fit\n",
    "import numpy as np\n",
    "\n",
    "# Define a non-linear function (e.g., power function)\n",
    "def non_linear_func(x, a, b):\n",
    "    return # YOUR CODE HERE\n",
    "\n",
    "# Sort the DataFrame by 'GDP_Per_Capita' column\n",
    "df.sort_values(by='GDP Per Capita', inplace=True)\n",
    "\n",
    "# Drop rows with NaN values in 'GDP Per Capita' and 'Life expectancy'\n",
    "df = df.dropna(subset=['GDP Per Capita', 'Life expectancy'])\n",
    "\n",
    "# Fit the non-linear model\n",
    "popt, pcov = # YOUR CODE HERE\n",
    "\n",
    "# Display the parameters\n",
    "print(f\"Optimal parameters: {popt}\")\n"
   ]
  },
  {
   "cell_type": "markdown",
   "id": "040adb58",
   "metadata": {},
   "source": [
    "\n",
    "### Question 3: Make Predictions and Plot the Results\n",
    "Use the fitted model to make predictions."
   ]
  },
  {
   "cell_type": "code",
   "execution_count": null,
   "id": "ec22c9ef",
   "metadata": {},
   "outputs": [],
   "source": [
    "\n",
    "# Make predictions using the fitted model\n",
    "predictions = # YOUR CODE HERE\n",
    "\n",
    "# Plot the original data and the fitted curve\n",
    "plt.scatter(df['GDP Per Capita'], df['Life expectancy'], color='blue', label='Actual')\n",
    "plt.plot(df['GDP Per Capita'], predictions, color='red', label='Fitted Curve')\n",
    "plt.title('Non-linear Regression Fit: GDP Per Capita vs. Life Expectancy')\n",
    "plt.xlabel('GDP Per Capita')\n",
    "plt.ylabel('Life Expectancy')\n",
    "plt.legend()\n",
    "plt.show()\n"
   ]
  },
  {
   "cell_type": "markdown",
   "id": "21490e65",
   "metadata": {},
   "source": [
    "\n",
    "### Question 4: Evaluate the Model\n",
    "Calculate the Mean Squared Error (MSE) and R-squared values to evaluate the model's performance.\n"
   ]
  },
  {
   "cell_type": "code",
   "execution_count": null,
   "id": "79ca8af2",
   "metadata": {},
   "outputs": [],
   "source": [
    "from sklearn.metrics import mean_squared_error, r2_score\n",
    "\n",
    "# Calculate evaluation metrics\n",
    "mse = # YOUR CODE HERE\n",
    "r2 = # YOUR CODE HERE\n",
    "\n",
    "print(f'Mean Squared Error: {mse}')\n",
    "print(f'R-squared: {r2}')"
   ]
  },
  {
   "cell_type": "markdown",
   "id": "dec9d86c",
   "metadata": {},
   "source": [
    "### Question 5: Advanced Non-linear Regression Model\n",
    "\n",
    "In this question, you will implement a more advanced non-linear regression model to predict the relationship between `GDP Per Capita` and `Life Expectancy`. The model to be used is:\n",
    "\n",
    "$$ y = log(ax^3 + bx^2 + cx + d + epsilon) $$\n",
    "\n",
    "This model combines polynomial terms and a logarithmic transformation. Follow the steps below:\n",
    "\n",
    "1. **Define the advanced non-linear function**: Define a function to represent the advanced non-linear model.\n",
    "2. **Fit the model to the data**: Use the `curve_fit` function to fit the advanced model to the data, providing initial guesses for the parameters. You also need to set the `maxfev=20000` to ensure enough iterations for the fitting process.\n",
    "\n",
    "    **Hint**: If you want to learn more about initial guesses, you can refer to the SciPy documentation on `curve_fit` in this [link](https://docs.scipy.org/doc/scipy/reference/generated/scipy.optimize.curve_fit.html).\n",
    "    \n",
    "3. **Make predictions**: Use the fitted model to make predictions for `Life Expectancy` based on `GDP Per Capita`.\n"
   ]
  },
  {
   "cell_type": "code",
   "execution_count": null,
   "id": "78076647",
   "metadata": {},
   "outputs": [],
   "source": [
    "# Step 1: Define the advanced non-linear function with a small constant to avoid negative or zero values\n",
    "def advanced_non_linear_func(x, a, b, c, d):\n",
    "    epsilon = 1e-6  # Small positive constant to prevent invalid values inside log\n",
    "    return # YOUR CODE HERE\n",
    "\n",
    "# Step 2: Fit the advanced non-linear model with initial guesses and increased maxfev\n",
    "initial_guess = [1, 1, 1, 1]  # Initial guesses for a, b, c, d\n",
    "popt_adv, pcov_adv = # YOUR CODE HERE\n",
    "\n",
    "# Step 3: Make predictions using the fitted model\n",
    "predictions_adv = # YOUR CODE HERE\n",
    "\n",
    "# Step 4: Plot the original data and the fitted curve\n",
    "plt.scatter(df['GDP Per Capita'], df['Life expectancy'], color='blue', label='Actual')\n",
    "plt.plot(df['GDP Per Capita'], predictions_adv, color='purple', label='Advanced Non-linear Fit')\n",
    "plt.title('Advanced Non-linear Model: GDP Per Capita vs. Life Expectancy')\n",
    "plt.xlabel('GDP Per Capita')\n",
    "plt.ylabel('Life Expectancy')\n",
    "plt.legend()\n",
    "plt.show()\n",
    "\n",
    "# Step 5: Calculate evaluation metrics\n",
    "mse_adv = mean_squared_error(df['Life expectancy'], predictions_adv)\n",
    "r2_adv = r2_score(df['Life expectancy'], predictions_adv)\n",
    "\n",
    "print(f'Advanced Non-linear Model - Mean Squared Error: {mse_adv}')\n",
    "print(f'Advanced Non-linear Model - R-squared: {r2_adv}')\n",
    "\n",
    "# Step 6: Compare with the power function model results\n",
    "print(f'Power Function Model - Mean Squared Error: {mse}')\n",
    "print(f'Power Function Model - R-squared: {r2}')"
   ]
  },
  {
   "cell_type": "markdown",
   "id": "cf05a5fb",
   "metadata": {},
   "source": [
    "As you can see, the results show that making the model more complicated does not necessarily improve performance. The power function model, despite being simpler, performs slightly better with a lower Mean Squared Error (17.18 vs. 17.55) and a higher R-squared value (0.692 vs. 0.685), indicating that added complexity does not always lead to better results."
   ]
  }
 ],
 "metadata": {
  "kernelspec": {
   "display_name": "Python 3",
   "language": "python",
   "name": "python3"
  },
  "language_info": {
   "codemirror_mode": {
    "name": "ipython",
    "version": 3
   },
   "file_extension": ".py",
   "mimetype": "text/x-python",
   "name": "python",
   "nbconvert_exporter": "python",
   "pygments_lexer": "ipython3",
   "version": "3.11.9"
  }
 },
 "nbformat": 4,
 "nbformat_minor": 5
}
