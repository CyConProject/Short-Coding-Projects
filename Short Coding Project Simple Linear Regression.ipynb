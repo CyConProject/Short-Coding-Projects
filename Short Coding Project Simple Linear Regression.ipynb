{
  "cells": [
    {
      "cell_type": "markdown",
      "metadata": {
        "id": "MDPFqXjmDlmQ"
      },
      "source": [
        "### Short Coding Project: Simple Linear Regression\n",
        "\n",
        "#### Project Overview\n",
        "This project consists of a few short tasks to apply the concepts learned in Module 2 on simple linear regression. You will work with a dataset, build a regression model, and evaluate its performance.\n",
        "\n",
        "* Delete the `#Your Code Here` comments and write your code.\n",
        "* **Do not change** the variable names.\n"
      ]
    },
    {
      "cell_type": "markdown",
      "metadata": {
        "id": "1XyZQv5pDt0m"
      },
      "source": [
        "#### Instructions\n",
        "\n",
        "1. **Load and Preprocess the Dataset**:\n",
        "    - Load the dataset from the provided URL.\n",
        "    - Display the first five rows of the dataset."
      ]
    },
    {
      "cell_type": "code",
      "execution_count": null,
      "metadata": {
        "colab": {
          "base_uri": "https://localhost:8080/"
        },
        "id": "Nay-a2dBDgYQ",
        "outputId": "6fa4e127-f622-4f53-dc7e-f3e16aa16d1d"
      },
      "outputs": [],
      "source": [
        "import pandas as pd\n",
        "\n",
        "# Load the dataset\n",
        "url = 'https://raw.githubusercontent.com/CyConProject/Lab/main/Datasets/Concrete_Data.csv'\n",
        "df = pd.read_csv(url)\n",
        "\n",
        "# Display the first few rows\n",
        "print(df.head())"
      ]
    },
    {
      "cell_type": "markdown",
      "metadata": {
        "id": "OKXbKO8UEJlv"
      },
      "source": [
        "\n",
        "  **Question 1**: Write the code to select 'water' as the feature (`X`) and 'csMPa' as the target (`y`), and then split the data into training and testing sets with an **80-20** split and **random_state=42**.\n"
      ]
    },
    {
      "cell_type": "code",
      "execution_count": null,
      "metadata": {
        "id": "LBu9Zer2EfUe"
      },
      "outputs": [],
      "source": [
        "# Question 1\n",
        "\n",
        "from sklearn.model_selection import train_test_split\n",
        "\n",
        "# Select feature and target variable\n",
        "X = # Your Code Here\n",
        "y = # Your Code Here\n",
        "\n",
        "# Split the data into training and testing sets\n",
        "X_train, X_test, y_train, y_test = # Your Code Here"
      ]
    },
    {
      "cell_type": "markdown",
      "metadata": {
        "id": "_XW50alqEzEx"
      },
      "source": [
        "\n",
        "2. **Train the Model**:\n",
        "    - Create a `LinearRegression` model and train it on the training data."
      ]
    },
    {
      "cell_type": "code",
      "execution_count": null,
      "metadata": {
        "colab": {
          "base_uri": "https://localhost:8080/",
          "height": 75
        },
        "id": "B-ji3zwEEn2E",
        "outputId": "ab0f5fb4-7adf-45f9-c2aa-d54e8d1e7f2c"
      },
      "outputs": [],
      "source": [
        "from sklearn.linear_model import LinearRegression\n",
        "\n",
        "# Create the model\n",
        "model = LinearRegression()\n",
        "\n",
        "# Train the model\n",
        "model.fit(X_train, y_train)"
      ]
    },
    {
      "cell_type": "markdown",
      "metadata": {
        "id": "Nv-I-MskE5G6"
      },
      "source": [
        "**Question 2**: Write the code to use the trained model to make predictions on the test data and print the first five predictions."
      ]
    },
    {
      "cell_type": "code",
      "execution_count": null,
      "metadata": {
        "colab": {
          "base_uri": "https://localhost:8080/"
        },
        "id": "hzFkqJZvExdP",
        "outputId": "12c1e8c2-71a3-4eff-c708-23aa5366e55f"
      },
      "outputs": [],
      "source": [
        "# Question 2\n",
        "# Make predictions\n",
        "y_pred = # Your Code Here\n",
        "\n",
        "# Print the first five predictions\n",
        "# Your Code Here"
      ]
    },
    {
      "cell_type": "markdown",
      "metadata": {
        "id": "pA36wmQ8EkDC"
      },
      "source": [
        "\n",
        "\n",
        "\n",
        "3. **Evaluate the Model**:\n",
        "    - Calculate and print the Mean Absolute Error (MAE), Mean Squared Error (MSE), Root Mean Squared Error (RMSE), and R-squared (R2) score for the model.\n",
        "\n",
        "**Question 3**: Write the code to calculate and print the evaluation metrics.\n",
        "\n",
        "\n"
      ]
    },
    {
      "cell_type": "code",
      "execution_count": null,
      "metadata": {
        "colab": {
          "base_uri": "https://localhost:8080/"
        },
        "id": "g2yQk6QUFAu-",
        "outputId": "de3c5679-a1a9-469c-f861-e640305a9349"
      },
      "outputs": [],
      "source": [
        "# Question 3\n",
        "\n",
        "from sklearn.metrics import mean_absolute_error, mean_squared_error, r2_score\n",
        "import numpy as np\n",
        "\n",
        "# Calculate evaluation metrics\n",
        "mae = # Your Code Here\n",
        "mse = # Your Code Here\n",
        "rmse = # Your Code Here\n",
        "r2 = # Your Code Here\n",
        "\n",
        "# Print the evaluation metrics\n",
        "# Your Code Here"
      ]
    },
    {
      "cell_type": "markdown",
      "metadata": {
        "id": "yrmwsOfAFCjT"
      },
      "source": [
        "#### Submission\n",
        "Submit your Jupyter Notebook file containing the completed project code. Ensure that your code is well-documented with comments explaining each step."
      ]
    }
  ],
  "metadata": {
    "colab": {
      "provenance": []
    },
    "kernelspec": {
      "display_name": "Python 3",
      "name": "python3"
    },
    "language_info": {
      "codemirror_mode": {
        "name": "ipython",
        "version": 3
      },
      "file_extension": ".py",
      "mimetype": "text/x-python",
      "name": "python",
      "nbconvert_exporter": "python",
      "pygments_lexer": "ipython3",
      "version": "3.11.9"
    }
  },
  "nbformat": 4,
  "nbformat_minor": 0
}
