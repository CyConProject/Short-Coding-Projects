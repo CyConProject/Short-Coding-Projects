{
 "cells": [
  {
   "cell_type": "markdown",
   "metadata": {},
   "source": [
    "### Short Coding Project: Polynomial Regression\n",
    "\n",
    "#### Project Overview\n",
    "This project consists of a few short tasks to apply the concepts learned in the Polynomial Regression lab. You will work with a dataset, build a Polynomial Regression model, and evaluate its performance.\n",
    "\n",
    "* Delete the `#Your Code Here` comments and write your code.\n",
    "* **Do not change** the variable names."
   ]
  },
  {
   "cell_type": "code",
   "execution_count": null,
   "metadata": {},
   "outputs": [],
   "source": [
    "import pandas as pd\n",
    "\n",
    "# Load the dataset\n",
    "url = 'https://raw.githubusercontent.com/CyConProject/Lab/main/Datasets/Concrete_Data.csv'\n",
    "df = pd.read_csv(url)\n",
    "\n",
    "# Display the first few rows\n",
    "print(df.head())"
   ]
  },
  {
   "cell_type": "markdown",
   "metadata": {},
   "source": [
    "### Question 1: Create Polynomial Features\n",
    "Generate polynomial features for the dataset. Use the `water`, `age`, and `cement` columns to create polynomial features of degree 3."
   ]
  },
  {
   "cell_type": "code",
   "execution_count": null,
   "metadata": {},
   "outputs": [],
   "source": [
    "from sklearn.preprocessing import PolynomialFeatures\n",
    "\n",
    "# Create polynomial features\n",
    "polynomial_features = PolynomialFeatures(degree=3)\n",
    "X = df[['water', 'age', 'cement']]\n",
    "X_poly = # Your Code Here\n",
    "\n",
    "# Display the first few rows of the polynomial features\n",
    "print(X_poly[:5])"
   ]
  },
  {
   "cell_type": "markdown",
   "metadata": {},
   "source": [
    "### Question 2: Split the Dataset\n",
    "Split the dataset into training and testing sets. Use 80% of the data for training and 20% for testing.  Set `random_state`=42 to ensure reproducibility."
   ]
  },
  {
   "cell_type": "code",
   "execution_count": null,
   "metadata": {},
   "outputs": [],
   "source": [
    "from sklearn.model_selection import train_test_split\n",
    "\n",
    "# Split the dataset\n",
    "X_train, X_test, y_train, y_test = # Your Code Here\n",
    "\n",
    "# Print the shapes of the resulting datasets\n",
    "print(f'X_train shape: {X_train.shape}')\n",
    "print(f'X_test shape: {X_test.shape}')"
   ]
  },
  {
   "cell_type": "markdown",
   "metadata": {},
   "source": [
    "### Question 3: Train the Polynomial Regression Model\n",
    "Train a Polynomial Regression model using the training dataset."
   ]
  },
  {
   "cell_type": "code",
   "execution_count": null,
   "metadata": {},
   "outputs": [],
   "source": [
    "from sklearn.linear_model import LinearRegression\n",
    "\n",
    "# Create and train the model\n",
    "model = LinearRegression()\n",
    "# Your Code Here\n",
    "\n",
    "# Print the model coefficients and intercept\n",
    "print(f'Coefficients: {model.coef_}')\n",
    "print(f'Intercept: {model.intercept_}')"
   ]
  },
  {
   "cell_type": "markdown",
   "metadata": {},
   "source": [
    "### Question 4: Make Predictions\n",
    "Use the trained model to make predictions on the testing set."
   ]
  },
  {
   "cell_type": "code",
   "execution_count": null,
   "metadata": {},
   "outputs": [],
   "source": [
    "# Make predictions\n",
    "predictions = # Your Code Here\n",
    "\n",
    "# Display the first five predictions\n",
    "print(predictions[:5])"
   ]
  },
  {
   "cell_type": "markdown",
   "metadata": {},
   "source": [
    "### Question 5: Evaluate the Model\n",
    "Calculate the Mean Squared Error (MSE) and R-squared values to evaluate the model's performance."
   ]
  },
  {
   "cell_type": "code",
   "execution_count": null,
   "metadata": {},
   "outputs": [],
   "source": [
    "from sklearn.metrics import mean_squared_error, r2_score\n",
    "\n",
    "# Calculate evaluation metrics\n",
    "mse = # Your Code Here\n",
    "r2 = # Your Code Here\n",
    "\n",
    "print(f'Mean Squared Error: {mse}')\n",
    "print(f'R-squared: {r2}')"
   ]
  },
  {
   "cell_type": "markdown",
   "metadata": {},
   "source": [
    "### Question 6: Experiment with Cross-Validation\n",
    "Instead of using a simple train-test split, use k-fold cross-validation to evaluate the performance of the Polynomial Regression model. This will provide a more robust estimate of the model’s performance.\n",
    "\n",
    "**Hint**: You can use `cross_val_score` from `sklearn.model_selection` to perform cross-validation. Use **5 folds** for this experiment and calculate the average R-squared value across all folds **(`scoring='r2'`)**.\n",
    "\n",
    "More about `cross_val_score` in this [link](https://scikit-learn.org/dev/modules/generated/sklearn.model_selection.cross_val_score.html)."
   ]
  },
  {
   "cell_type": "code",
   "execution_count": null,
   "metadata": {},
   "outputs": [],
   "source": [
    "from sklearn.model_selection import cross_val_score\n",
    "\n",
    "# Perform 5-fold cross-validation\n",
    "cv_scores = # Your Code Here\n",
    "\n",
    "# Print the cross-validation scores and their mean\n",
    "print(f'Cross-validation R-squared scores: {cv_scores}')\n",
    "print(f'Average R-squared score: {cv_scores.mean()}')"
   ]
  }
 ],
 "metadata": {
  "kernelspec": {
   "display_name": "Python 3",
   "language": "python",
   "name": "python3"
  },
  "language_info": {
   "codemirror_mode": {
    "name": "ipython",
    "version": 3
   },
   "file_extension": ".py",
   "mimetype": "text/x-python",
   "name": "python",
   "nbconvert_exporter": "python",
   "pygments_lexer": "ipython3",
   "version": "3.11.9"
  }
 },
 "nbformat": 4,
 "nbformat_minor": 2
}
