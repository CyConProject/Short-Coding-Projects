{
 "cells": [
  {
   "cell_type": "markdown",
   "metadata": {},
   "source": [
    "### Short Coding Project: Support Vector Machines (SVM)\n",
    "\n",
    "#### Project Overview\n",
    "\n",
    "In this project, you will apply Support Vector Machines (SVM) to classify whether culverts need repair based on various environmental and physical attributes using the Augmented Culvert Dataset. You will preprocess the data, handle categorical variables, perform feature scaling, build and evaluate an SVM model, and explore advanced topics such as hyperparameter tuning.\n",
    "\n",
    "- Delete the `# YOUR CODE HERE` comments and write your code.\n",
    "- **Do not change** the variable names.\n",
    "\n",
    "### Load the Dataset\n",
    "\n",
    "Start by loading the Augmented Culvert Dataset and examining its structure."
   ]
  },
  {
   "cell_type": "code",
   "execution_count": null,
   "metadata": {},
   "outputs": [],
   "source": [
    "# Import necessary libraries\n",
    "import pandas as pd\n",
    "import warnings\n",
    "warnings.filterwarnings(\"ignore\")\n",
    "import matplotlib.pyplot as plt\n",
    "import seaborn as sns\n",
    "\n",
    "# Load the dataset\n",
    "url = 'https://raw.githubusercontent.com/CyConProject/Lab/main/Datasets/Augmented%20Culvert%20Dataset.csv'\n",
    "data = pd.read_csv(url)\n",
    "\n",
    "# Display the first few rows of the dataset\n",
    "data.head()"
   ]
  },
  {
   "cell_type": "markdown",
   "metadata": {},
   "source": [
    "### Data Preprocessing\n",
    "\n",
    "**Handle missing values and encode categorical variables**\n",
    "\n",
    "- For the `'Flooding_Frequency'` column, replace missing values with `'None'`.\n",
    "- Convert the `'Cul_rating'` column to a binary target variable where ratings of 0 or 1 are mapped to `0` (needs repair), and ratings of 2, 3, or 4 are mapped to `1` (satisfactory to good condition).\n",
    "- Encode categorical variables using label encoding. The columns to encode are:\n",
    "  - `'cul_matl'`\n",
    "  - `'cul_type'`\n",
    "  - `'Soil_Drainage_Class'`\n",
    "  - `'Soil_Surface_Texture'`\n",
    "  - `'Flooding_Frequency'`"
   ]
  },
  {
   "cell_type": "code",
   "execution_count": null,
   "metadata": {},
   "outputs": [],
   "source": [
    "# Fill missing values in 'Flooding_Frequency' with 'None'\n",
    "data['Flooding_Frequency'].fillna('None', inplace=True)\n",
    "\n",
    "# Convert 'Cul_rating' to binary target variable\n",
    "def convert_rating(rating):\n",
    "    if rating in [0, 1]:\n",
    "        return 0\n",
    "    else:\n",
    "        return 1\n",
    "\n",
    "data['Cul_rating'] = data['Cul_rating'].apply(convert_rating)\n",
    "\n",
    "# Encode categorical variables using label encoding\n",
    "from sklearn.preprocessing import LabelEncoder\n",
    "\n",
    "categorical_columns = ['cul_matl', 'cul_type', 'Soil_Drainage_Class', 'Soil_Surface_Texture', 'Flooding_Frequency']\n",
    "label_encoders = {}\n",
    "for column in categorical_columns:\n",
    "    le = LabelEncoder()\n",
    "    data[column] = le.fit_transform(data[column])\n",
    "    label_encoders[column] = le\n",
    "\n",
    "# Display the first few rows of the updated dataset\n",
    "data.head()"
   ]
  },
  {
   "cell_type": "markdown",
   "metadata": {},
   "source": [
    "### Question 1: Visualize the Target Variable Distribution\n",
    "\n",
    "Visualize the distribution of the target variable `'Cul_rating'` to understand the class balance in the dataset.\n",
    "\n",
    "1. Use `value_counts()` to find the distribution. Plot a bar chart showing the number of instances in each class of `'Cul_rating'`."
   ]
  },
  {
   "cell_type": "code",
   "execution_count": null,
   "metadata": {},
   "outputs": [],
   "source": [
    "# Plot a bar chart of 'Cul_rating' distribution\n",
    "class_counts = # YOUR CODE HERE\n",
    "plt.figure(figsize=(6, 4))\n",
    "sns.barplot(x=class_counts.index, y=class_counts.values)\n",
    "plt.xlabel('Cul_rating')\n",
    "plt.ylabel('Number of Instances')\n",
    "plt.title('Distribution of Cul_rating')\n",
    "plt.show()"
   ]
  },
  {
   "cell_type": "markdown",
   "metadata": {},
   "source": [
    "### Question 2: Feature Correlation Analysis\n",
    "\n",
    "Understanding the correlation between features can help in feature selection and data understanding.\n",
    "\n",
    "1. **Compute the correlation matrix** of the dataset.\n",
    "2. **Visualize the correlation matrix** using a heatmap.\n",
    "\n",
    "**Hint**: Use the `.corr()` method and `seaborn`'s `heatmap` function."
   ]
  },
  {
   "cell_type": "code",
   "execution_count": null,
   "metadata": {},
   "outputs": [],
   "source": [
    "# Compute correlation matrix\n",
    "corr_matrix = # YOUR CODE HERE\n",
    "\n",
    "# Visualize correlation matrix\n",
    "plt.figure(figsize=(12, 10))\n",
    "sns.heatmap(corr_matrix, annot=True, fmt=\".2f\", cmap='coolwarm')\n",
    "plt.show()"
   ]
  },
  {
   "cell_type": "markdown",
   "metadata": {},
   "source": [
    "\n",
    "### Question 3: Train and Evaluate the SVM Classifier\n",
    "\n",
    "1. **Split the dataset** into features (`X`) and target (`y`), and then into training and testing sets using an 80-20 split. Set the `random_state=42`.\n",
    "2. **Standardize the feature data** using `StandardScaler`.\n",
    "3. **Initialize** the SVM classifier with default parameters (`kernel='rbf'`, `C=1.0`, `gamma='scale'`, `random_state=42`).\n",
    "4. **Train** the model on the training data.\n",
    "5. **Predict** the classes for the test data.\n",
    "6. **Calculate the accuracy score**, **precision**, **recall**, and **F1 score** for the test data."
   ]
  },
  {
   "cell_type": "code",
   "execution_count": null,
   "metadata": {},
   "outputs": [],
   "source": [
    "from sklearn.model_selection import train_test_split\n",
    "from sklearn.preprocessing import StandardScaler\n",
    "from sklearn.svm import SVC\n",
    "from sklearn.metrics import accuracy_score, precision_score, recall_score, f1_score\n",
    "\n",
    "# Separate features and target variable\n",
    "X = data.drop('Cul_rating', axis=1)\n",
    "y = data['Cul_rating']\n",
    "\n",
    "# Split the data\n",
    "X_train, X_test, y_train, y_test = # YOUR CODE HERE\n",
    "\n",
    "# Standardize the feature data\n",
    "scaler = # YOUR CODE HERE\n",
    "X_train_scaled = # YOUR CODE HERE\n",
    "X_test_scaled = # YOUR CODE HERE\n",
    "\n",
    "# Initialize the SVM classifier\n",
    "svm_model = # YOUR CODE HERE\n",
    "\n",
    "# Train the model\n",
    "# YOUR CODE HERE\n",
    "\n",
    "# Predict the labels for the test set\n",
    "y_pred = # YOUR CODE HERE\n",
    "\n",
    "# Calculate evaluation metrics\n",
    "accuracy = # YOUR CODE HERE\n",
    "precision = # YOUR CODE HERE\n",
    "recall = # YOUR CODE HERE\n",
    "f1 = # YOUR CODE HERE\n",
    "\n",
    "# Display the results\n",
    "print(f\"Accuracy Score: {accuracy:.2f}\")\n",
    "print(f\"Precision: {precision:.2f}\")\n",
    "print(f\"Recall: {recall:.2f}\")\n",
    "print(f\"F1 Score: {f1:.2f}\")"
   ]
  },
  {
   "cell_type": "markdown",
   "metadata": {},
   "source": [
    "### Question 4: Cross-Validation\n",
    "\n",
    "To get a better estimate of the model's performance, perform cross-validation.\n",
    "\n",
    "1. **Perform 5-fold cross-validation** on the training data and compute the average accuracy.\n",
    "\n",
    "**Hint**: Use `cross_val_score` from `sklearn.model_selection`. Set the `scoring= 'accuracy'`."
   ]
  },
  {
   "cell_type": "code",
   "execution_count": null,
   "metadata": {},
   "outputs": [],
   "source": [
    "from sklearn.model_selection import cross_val_score\n",
    "\n",
    "# Perform cross-validation\n",
    "cv_scores = # YOUR CODE HERE\n",
    "\n",
    "# Compute average accuracy\n",
    "avg_accuracy = # YOUR CODE HERE\n",
    "\n",
    "print(f\"Cross-Validation Accuracy Scores: {cv_scores}\")\n",
    "print(f\"Average Cross-Validation Accuracy: {avg_accuracy:.2f}\")"
   ]
  },
  {
   "cell_type": "markdown",
   "metadata": {},
   "source": [
    "\n",
    "### Question 5: Hyperparameter Tuning (Advanced)\n",
    "\n",
    "Optimize the SVM classifier's hyperparameters to improve performance.\n",
    "\n",
    "1. **Perform a grid search** to find the best combination of `C` and `gamma` for the RBF kernel. Use `GridSearchCV` with `cv=5` and `scoring='accuracy'` to find the best combination of hyperparameters.\n",
    "2. **Train the SVM classifier** with the best parameters found. Use `random_state=42`.\n",
    "3. **Evaluate the model** using the test data.\n",
    "\n",
    "**Hint**: Use `GridSearchCV` from `sklearn.model_selection`. To understand and implement hyperparameter tuning using `GridSearchCV` for optimizing an SVM classifier, refer to the following resource: \n",
    "[Scikit-learn Grid Search Documentation](https://scikit-learn.org/stable/modules/grid_search.html?utm_source=chatgpt.com)."
   ]
  },
  {
   "cell_type": "code",
   "execution_count": null,
   "metadata": {},
   "outputs": [],
   "source": [
    "from sklearn.model_selection import GridSearchCV\n",
    "\n",
    "# Define parameter grid\n",
    "param_grid = {\n",
    "    'C': [0.1, 1, 10],\n",
    "    'gamma': [0.01, 0.1, 1]\n",
    "}\n",
    "\n",
    "# Initialize GridSearchCV\n",
    "grid_search = # YOUR CODE HERE\n",
    "\n",
    "# Perform grid search on training data\n",
    "# YOUR CODE HERE\n",
    "\n",
    "# Get the best parameters\n",
    "best_params = # YOUR CODE HERE\n",
    "print(\"Best Parameters:\", best_params)\n",
    "\n",
    "# Train the model with best parameters\n",
    "best_svm_model = # YOUR CODE HERE\n",
    "\n",
    "# Predict on test data\n",
    "y_pred_best = # YOUR CODE HERE\n",
    "\n",
    "# Evaluate the model\n",
    "accuracy_best = # YOUR CODE HERE\n",
    "precision_best = # YOUR CODE HERE\n",
    "recall_best = # YOUR CODE HERE\n",
    "f1_best = # YOUR CODE HERE\n",
    "\n",
    "# Display the results\n",
    "print(f\"Accuracy Score after Hyperparameter Tuning: {accuracy_best:.2f}\")\n",
    "print(f\"Precision: {precision_best:.2f}\")\n",
    "print(f\"Recall: {recall_best:.2f}\")\n",
    "print(f\"F1 Score: {f1_best:.2f}\")"
   ]
  },
  {
   "cell_type": "markdown",
   "metadata": {},
   "source": [
    "After hyperparameter tuning, the SVM model's performance improved significantly, increasing accuracy from **87% to 98%**. The optimized model, with **C=10** and **gamma=1**, achieved perfect **precision (1.00)** and a high **recall (0.96)**, indicating that it correctly identifies almost all positive cases while minimizing false positives. This demonstrates the importance of tuning hyperparameters to achieve optimal classification performance."
   ]
  }
 ],
 "metadata": {
  "kernelspec": {
   "display_name": "Python 3",
   "language": "python",
   "name": "python3"
  },
  "language_info": {
   "codemirror_mode": {
    "name": "ipython",
    "version": 3
   },
   "file_extension": ".py",
   "mimetype": "text/x-python",
   "name": "python",
   "nbconvert_exporter": "python",
   "pygments_lexer": "ipython3",
   "version": "3.11.9"
  }
 },
 "nbformat": 4,
 "nbformat_minor": 2
}
