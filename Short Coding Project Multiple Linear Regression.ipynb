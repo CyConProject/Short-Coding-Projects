{
 "cells": [
  {
   "cell_type": "markdown",
   "id": "acb8649a",
   "metadata": {
    "id": "80ecb9a5-6a76-455e-9797-a83c11584266"
   },
   "source": [
    "### Short Coding Project: Multiple Linear Regression\n",
    "\n",
    "#### Project Overview\n",
    "This project consists of a few short tasks to apply the concepts learned in the Multiple Linear Regression lab. You will work with a dataset, build a multiple linear regression model, and evaluate its performance.\n",
    "\n",
    "* Delete the `#Your Code Here` comments and write your code.\n",
    "* **Do not change** the variable names.\n"
   ]
  },
  {
   "cell_type": "code",
   "execution_count": null,
   "id": "2592364d",
   "metadata": {
    "id": "cb6428a1-5415-4e51-9b8a-63713f1de82e"
   },
   "outputs": [],
   "source": [
    "import pandas as pd\n",
    "\n",
    "# Load the dataset\n",
    "url = 'https://raw.githubusercontent.com/CyConProject/Lab/main/Datasets/Concrete_Data.csv'\n",
    "df = pd.read_csv(url)\n",
    "\n",
    "# Display the first few rows\n",
    "print(df.head())"
   ]
  },
  {
   "cell_type": "markdown",
   "id": "43a25a9a",
   "metadata": {
    "id": "21047e71-383d-4c72-97e7-d9567b342c33"
   },
   "source": [
    "### Question 1: Check for Missing Values\n",
    "Check for any missing values in the dataset and handle them appropriately if any are found.\n",
    "\n",
    "You can find a hint in this [link](https://www.geeksforgeeks.org/python-pandas-isnull-and-notnull/).\n"
   ]
  },
  {
   "cell_type": "code",
   "execution_count": null,
   "id": "5c2e9e68",
   "metadata": {
    "id": "4d093467-9dcf-400a-bdc3-93d72e7a9557"
   },
   "outputs": [],
   "source": [
    "# Check for missing values\n",
    "missing_values = # Your Code Here\n",
    "print(missing_values)"
   ]
  },
  {
   "cell_type": "markdown",
   "id": "e25ffcef",
   "metadata": {
    "id": "beece7cd-a792-42fc-9409-491c63c8a3ba"
   },
   "source": [
    "### Question 2: Describe the Dataset\n",
    "Provide a summary of the dataset using the `describe` method to understand its statistical properties."
   ]
  },
  {
   "cell_type": "code",
   "execution_count": null,
   "id": "a090abaf",
   "metadata": {
    "id": "b84b1b3d-608a-42b1-82e3-0ab18aa365b1"
   },
   "outputs": [],
   "source": [
    "# Describe the dataset\n",
    "summary = # Your Code Here\n",
    "print(summary)"
   ]
  },
  {
   "cell_type": "markdown",
   "id": "c8111a06",
   "metadata": {
    "id": "7becab4f-7993-43c5-a1d0-edf7da0bf6c4"
   },
   "source": [
    "### Question 3: Split the Data\n",
    "\n",
    "Set the concrete compressive strength (`csMPa`) as the target variable and the remaining attributes as input features. Then, split the dataset into training and testing sets. Use 80% of the data for training and 20% for testing. Set `random_state`=42 to ensure reproducibility.\n"
   ]
  },
  {
   "cell_type": "code",
   "execution_count": null,
   "id": "b4b35ad7",
   "metadata": {
    "id": "6ec46b3a-c01e-4d68-b389-fa9464bd8a26"
   },
   "outputs": [],
   "source": [
    "from sklearn.model_selection import train_test_split\n",
    "\n",
    "# Define features and target variable\n",
    "y = # Your Code Here\n",
    "X = # Your Code Here\n",
    "\n",
    "# Split the data\n",
    "X_train, X_test, y_train, y_test = # Your Code Here"
   ]
  },
  {
   "cell_type": "markdown",
   "id": "bce7d1c1",
   "metadata": {
    "id": "e357ecc1-eaaf-4f55-ba67-2feed0ed416d"
   },
   "source": [
    "### Question 4: Train the Model\n",
    "Create a multiple linear regression model using scikit-learn and train it on the training set."
   ]
  },
  {
   "cell_type": "code",
   "execution_count": null,
   "id": "7f46729d",
   "metadata": {
    "id": "4f7b97ed-0d74-4d70-a74d-211af88cc591"
   },
   "outputs": [],
   "source": [
    "from sklearn.linear_model import LinearRegression\n",
    "\n",
    "# Create and train the model\n",
    "model = # Your Code Here\n",
    "model.fit(X_train, y_train)"
   ]
  },
  {
   "cell_type": "markdown",
   "id": "e2ce8462",
   "metadata": {
    "id": "50271533-d276-4db5-bf19-45a29b954b7c"
   },
   "source": [
    "### Question 5: Make Predictions\n",
    "Use the trained model to make predictions on the testing set."
   ]
  },
  {
   "cell_type": "code",
   "execution_count": null,
   "id": "9d8aeb2f",
   "metadata": {
    "id": "66d7323a-6385-4187-b8c3-56c1e92009a3"
   },
   "outputs": [],
   "source": [
    "# Make predictions\n",
    "predictions = # Your Code Here\n",
    "print(predictions[:5])  # Display the first five predictions"
   ]
  },
  {
   "cell_type": "markdown",
   "id": "bbea264f",
   "metadata": {
    "id": "01f9a778-b4a6-40c1-9871-f778d9df3d92"
   },
   "source": [
    "### Question 6: Evaluate the Model\n",
    "Calculate the Mean Squared Error (MSE) and R-squared values to evaluate the model's performance."
   ]
  },
  {
   "cell_type": "code",
   "execution_count": null,
   "id": "0e5c41ce",
   "metadata": {
    "id": "b22a6dc5-ca10-4951-aa75-43df04fc8c35"
   },
   "outputs": [],
   "source": [
    "from sklearn.metrics import mean_squared_error, r2_score\n",
    "\n",
    "# Calculate evaluation metrics\n",
    "mse = # Your Code Here\n",
    "r2 = # Your Code Here\n",
    "\n",
    "print(f'Mean Squared Error: {mse}')\n",
    "print(f'R-squared: {r2}')"
   ]
  },
  {
   "cell_type": "markdown",
   "id": "95d7e931",
   "metadata": {},
   "source": [
    "### Question 7: Calculate and Interpret Coefficients\n",
    "\n",
    "\n",
    "Calculate the coefficients and intercept of the multiple linear regression model.\n",
    "\n",
    "You can find a hint in this [link](https://scikit-learn.org/stable/modules/linear_model.html)."
   ]
  },
  {
   "cell_type": "code",
   "execution_count": null,
   "id": "ad80a73d",
   "metadata": {},
   "outputs": [],
   "source": [
    "# Get the coefficients of the model\n",
    "coefficients = # Your Code Here\n",
    "intercept = # Your Code Here\n",
    "\n",
    "# Create a DataFrame to display the coefficients\n",
    "coefficients_df = pd.DataFrame({'Feature': X_train.columns, 'Coefficient': coefficients})\n",
    "print(coefficients_df)\n",
    "print(f'Intercept: {intercept}')"
   ]
  }
 ],
 "metadata": {
  "kernelspec": {
   "display_name": "Python 3",
   "language": "python",
   "name": "python3"
  },
  "language_info": {
   "codemirror_mode": {
    "name": "ipython",
    "version": 3
   },
   "file_extension": ".py",
   "mimetype": "text/x-python",
   "name": "python",
   "nbconvert_exporter": "python",
   "pygments_lexer": "ipython3",
   "version": "3.11.9"
  }
 },
 "nbformat": 4,
 "nbformat_minor": 5
}
